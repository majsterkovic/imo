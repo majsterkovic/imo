{
 "cells": [
  {
   "cell_type": "code",
   "execution_count": null,
   "metadata": {},
   "outputs": [],
   "source": [
    "import numpy as np\n",
    "import pprint as pp\n",
    "from matplotlib import pyplot as plt\n",
    "import shutil\n",
    "import os\n",
    "import copy\n",
    "from typing import List, Tuple, Dict, Any\n",
    "from IPython.display import clear_output\n",
    "import time\n",
    "from tqdm.notebook import tqdm\n",
    "import random"
   ]
  },
  {
   "cell_type": "markdown",
   "metadata": {},
   "source": [
    "### Utils"
   ]
  },
  {
   "cell_type": "code",
   "execution_count": null,
   "metadata": {},
   "outputs": [],
   "source": [
    "def read_data_file(file_name: str) -> Dict[Any, Any]:\n",
    "    tsp_data = {}\n",
    "    with open(FILENAME, 'r') as file:\n",
    "        for line in file:\n",
    "            if line.startswith('EOF'):\n",
    "                break\n",
    "            if line.startswith('DIMENSION'):\n",
    "                tsp_data['DIMENSION'] = int(line.split()[1])\n",
    "            parts = line.split()\n",
    "            if parts[0].isdigit():\n",
    "                node, x, y = map(int, parts)\n",
    "                tsp_data[node] = (x, y)\n",
    "\n",
    "    return tsp_data\n",
    "\n",
    "def calculate_distance_matrix(tsp_data: Dict[Any, Any]) -> np.ndarray:\n",
    "    N = tsp_data['DIMENSION']\n",
    "    tsp_data.pop('DIMENSION')\n",
    "\n",
    "    distance_matrix = [[0 for _ in range(N + 1)] for _ in range(N + 1)]\n",
    "    for node in tsp_data:\n",
    "        x1, y1 = tsp_data[node]\n",
    "        for other_node in tsp_data:\n",
    "            if node == other_node:\n",
    "                continue\n",
    "            else:\n",
    "                x2, y2 = tsp_data[other_node]\n",
    "                distance = np.sqrt((x1 - x2)**2 + (y1 - y2)**2)\n",
    "                distance_matrix[node][other_node] = distance\n",
    "                distance_matrix[other_node][node] = distance\n",
    "    return np.array(distance_matrix)\n",
    "\n",
    "def print_distance_matrix(distance_matrix: np.ndarray):\n",
    "    print(distance_matrix)"
   ]
  },
  {
   "cell_type": "code",
   "execution_count": null,
   "metadata": {},
   "outputs": [],
   "source": [
    "def plot_cities(data: Dict[Any, Any]) -> None:\n",
    "    x = []\n",
    "    y = []\n",
    "    for city in data:\n",
    "        x.append(data[city][0])\n",
    "        y.append(data[city][1])\n",
    "    plt.scatter(x, y)\n",
    "    plt.show()\n",
    "\n",
    "\n",
    "def plot_cycles(cycle1: List, cycle2: List, tsp_data: Dict[Any, Any], file_name) -> None:\n",
    "    plt.figure(figsize=(8, 6))\n",
    "\n",
    "    for city in cycle1:\n",
    "        plt.scatter(tsp_data[city][0], tsp_data[city][1], color='red', s=30)\n",
    "        plt.text(tsp_data[city][0], tsp_data[city][1], str(city), fontsize=8, ha='left', va='bottom')\n",
    "\n",
    "    cycle1_x = [tsp_data[city][0] for city in cycle1]\n",
    "    cycle1_y = [tsp_data[city][1] for city in cycle1]\n",
    "    cycle1_x.append(cycle1_x[0])\n",
    "    cycle1_y.append(cycle1_y[0])\n",
    "    plt.plot(cycle1_x, cycle1_y, linestyle='-', color='blue', label='Cycle 1')\n",
    "\n",
    "    for city in cycle2:\n",
    "        plt.scatter(tsp_data[city][0], tsp_data[city][1], color='red', s=30)\n",
    "        plt.text(tsp_data[city][0], tsp_data[city][1], str(city), fontsize=8, ha='left', va='bottom')\n",
    "\n",
    "    cycle2_x = [tsp_data[city][0] for city in cycle2]\n",
    "    cycle2_y = [tsp_data[city][1] for city in cycle2]\n",
    "    cycle2_x.append(cycle2_x[0])\n",
    "    cycle2_y.append(cycle2_y[0])\n",
    "    plt.plot(cycle2_x, cycle2_y, linestyle='-', color='green', label='Cycle 2')\n",
    "\n",
    "    plt.title('Visualization of Cycles')\n",
    "    plt.xlabel('X-coordinate')\n",
    "    plt.ylabel('Y-coordinate')\n",
    "    plt.grid(True)\n",
    "    plt.legend()\n",
    "    plt.savefig(file_name)\n",
    "    plt.show()\n"
   ]
  },
  {
   "cell_type": "code",
   "execution_count": null,
   "metadata": {},
   "outputs": [],
   "source": [
    "def get_nodes(tsp_data: Dict[Any, Any]) -> np.ndarray:\n",
    "    nodes = []\n",
    "    for node in tsp_data:\n",
    "        if node != 'DIMENSION':\n",
    "            nodes.append(node)\n",
    "    return np.array(nodes)"
   ]
  },
  {
   "cell_type": "code",
   "execution_count": null,
   "metadata": {},
   "outputs": [],
   "source": [
    "def swap_nodes_between_cycles(cycle1: List, cycle2: List, a_index: int, b_index: int) -> Tuple[np.ndarray, np.ndarray]:\n",
    "    # cycle1 = copy.deepcopy(cycle1)\n",
    "    # cycle2 = copy.deepcopy(cycle2)\n",
    "\n",
    "    tmp = cycle2[b_index]\n",
    "    cycle2[b_index] = cycle1[a_index]\n",
    "    cycle1[a_index] = tmp\n",
    "\n",
    "    return cycle1, cycle2\n",
    "\n",
    "\n",
    "def swap_edge_within_cycle(cycle: List, a_index: int, b_index: int) -> List:\n",
    "    # cycle = copy.deepcopy(cycle)\n",
    "    \n",
    "    b_index = (b_index + 1) % (len(cycle) + 1)\n",
    "    if a_index > b_index:\n",
    "        a_index, b_index = b_index, a_index\n",
    "    cycle[a_index:b_index] = cycle[a_index:b_index][::-1]\n",
    "    return cycle"
   ]
  },
  {
   "cell_type": "code",
   "execution_count": null,
   "metadata": {},
   "outputs": [],
   "source": [
    "SWAP_NODES_BETWEEN = 2\n",
    "SWAP_EDGES_WITHIN_CYCLE_1 = 0\n",
    "SWAP_EDGES_WITHIN_CYCLE_2 = 1\n",
    "\n",
    "def generate_moves(cycle: List):\n",
    "\n",
    "    moves = []\n",
    "    N = len(cycle)\n",
    "\n",
    "    # generate edges\n",
    "    for i in range(2, N-1):\n",
    "        for j in range(N):\n",
    "            k = (j + i) % (N)\n",
    "            if j < k:\n",
    "                moves.append((SWAP_EDGES_WITHIN_CYCLE_1, (j, k)))\n",
    "\n",
    "    # generate edges\n",
    "    for i in range(2, N-1):\n",
    "        for j in range(N):\n",
    "            k = (j + i) % (N)\n",
    "            if j < k:\n",
    "                moves.append((SWAP_EDGES_WITHIN_CYCLE_2, (j, k)))\n",
    "\n",
    "    # generate nodes\n",
    "    for i in range(N):\n",
    "        for j in range(N):\n",
    "                moves.append((SWAP_NODES_BETWEEN, (i, j)))\n",
    "    \n",
    "    # shuffle moves\n",
    "    np.random.shuffle(moves)\n",
    "    return moves"
   ]
  },
  {
   "cell_type": "code",
   "execution_count": null,
   "metadata": {},
   "outputs": [],
   "source": [
    "def apply_move(move: Tuple[int, Tuple[int, int]], cycle1: List, cycle2: List) -> Tuple[List, List]:\n",
    "    move_type, (a, b) = move\n",
    "    \n",
    "    if move_type == SWAP_NODES_BETWEEN:\n",
    "        cycle1, cycle2 = swap_nodes_between_cycles(cycle1, cycle2, a, b)\n",
    "\n",
    "    elif move_type == SWAP_EDGES_WITHIN_CYCLE_1:\n",
    "        cycle1 = swap_edge_within_cycle(cycle1, a, b)\n",
    "\n",
    "    elif move_type == SWAP_EDGES_WITHIN_CYCLE_2:\n",
    "        cycle2 = swap_edge_within_cycle(cycle2, a, b)\n",
    "\n",
    "    return cycle1, cycle2"
   ]
  },
  {
   "cell_type": "code",
   "execution_count": null,
   "metadata": {},
   "outputs": [],
   "source": [
    "def calculate_cycles_length(cycle1: List, cycle2: List, distance_matrix: np.ndarray) -> float:\n",
    "    c = [cycle1, cycle2]\n",
    "    total_length = 0\n",
    "    for cycle in c:\n",
    "        length = 0\n",
    "        for i in range(len(cycle)):\n",
    "            length += distance_matrix[cycle[i-1]][cycle[i]]\n",
    "        total_length += length\n",
    "\n",
    "    return total_length"
   ]
  },
  {
   "cell_type": "markdown",
   "metadata": {},
   "source": [
    "### Random TSP Algorithm"
   ]
  },
  {
   "cell_type": "code",
   "execution_count": null,
   "metadata": {},
   "outputs": [],
   "source": [
    "def random_cycle(nodes) -> Tuple[np.ndarray, np.ndarray]:\n",
    "    nodes = copy.deepcopy(nodes)\n",
    "    np.random.shuffle(nodes)\n",
    "    half = len(nodes) // 2\n",
    "    cycle1 = np.array(nodes[:half])\n",
    "    cycle2 = np.array(nodes[half:])\n",
    "    \n",
    "    return cycle1, cycle2"
   ]
  },
  {
   "cell_type": "markdown",
   "metadata": {},
   "source": [
    "### Candidate Moves Algorithm"
   ]
  },
  {
   "cell_type": "code",
   "execution_count": null,
   "metadata": {},
   "outputs": [],
   "source": [
    "def compute_k_closest_neighbours(distance, k):\n",
    "    dist = distance[1:, 1:]\n",
    "    closest = np.argpartition(dist, k+1, axis=1)[:, :k+1] + 1\n",
    "    zeros = np.zeros(len(closest[0]), dtype=np.uint16)\n",
    "    return np.concatenate(([zeros], closest))\n",
    "\n",
    "def find_city(cycle1, cycle2, node):\n",
    "    out = np.where(cycle1 == node)[0]\n",
    "    if len(out) == 1:\n",
    "        return (True, out[0])\n",
    "    else:\n",
    "        return (False, np.where(cycle2 == node)[0][0])\n",
    "\n",
    "def candidate_moves_algorithm(cycle1, cycle2, distance, data, k=10):\n",
    "    closest = compute_k_closest_neighbours(distance, k)\n",
    "    num_cities = len(get_nodes(data))\n",
    "    iter = 0\n",
    "\n",
    "    while True:\n",
    "        best_move = None\n",
    "        best_delta = 0\n",
    "\n",
    "        for i in range(1, num_cities+1):\n",
    "            for j in closest[i]:\n",
    "                if i==j:\n",
    "                    continue\n",
    "                i_in_cycle1, pos_i = find_city(cycle1, cycle2, i)\n",
    "                j_in_cycle1, pos_j = find_city(cycle1, cycle2, j)\n",
    "\n",
    "                distance_before_succ = 0\n",
    "                distance_after_succ = 0\n",
    "                distance_after_pred = 0\n",
    "                distance_before_pred = 0\n",
    "\n",
    "                if (i_in_cycle1 and j_in_cycle1):\n",
    "                    pos_i_succ = (pos_i+1)%len(cycle1)\n",
    "                    pos_j_succ = (pos_j+1)%len(cycle1)\n",
    "\n",
    "                    pos_i_pred = (pos_i-1)%len(cycle1)\n",
    "                    pos_j_pred = (pos_j-1)%len(cycle1)\n",
    "\n",
    "                    distance_before_succ = distance[i][cycle1[pos_i_succ]] + distance[j][cycle1[pos_j_succ]] # wariant 1\n",
    "                    distance_after_succ = distance[i][j] + distance[cycle1[pos_i_succ]][cycle1[pos_j_succ]]\n",
    "\n",
    "                    distance_before_pred = distance[i][cycle1[pos_i_pred]] + distance[j][cycle1[pos_j_pred]] # wariant 2\n",
    "                    distance_after_pred = distance[i][j] + distance[cycle1[pos_i_pred]][cycle1[pos_j_pred]]\n",
    "\n",
    "                elif (i_in_cycle1 is False and j_in_cycle1 is False):\n",
    "                    pos_i_succ = (pos_i+1)%len(cycle2)\n",
    "                    pos_j_succ = (pos_j+1)%len(cycle2)\n",
    "\n",
    "                    pos_i_pred = (pos_i-1)%len(cycle2)\n",
    "                    pos_j_pred = (pos_j-1)%len(cycle2)\n",
    "\n",
    "                    distance_before_succ = distance[i][cycle2[pos_i_succ]] + distance[j][cycle2[pos_j_succ]]\n",
    "                    distance_after_succ = distance[i][j] + distance[cycle2[pos_i_succ]][cycle2[pos_j_succ]]\n",
    "\n",
    "                    distance_before_pred = distance[i][cycle2[pos_i_pred]] + distance[j][cycle2[pos_j_pred]]\n",
    "                    distance_after_pred = distance[i][j] + distance[cycle2[pos_i_pred]][cycle2[pos_j_pred]]\n",
    "\n",
    "\n",
    "                delta_succ = distance_after_succ - distance_before_succ\n",
    "                delta_pred = distance_after_pred - distance_before_pred\n",
    "                \n",
    "                delta = min(delta_pred, delta_succ)\n",
    "                which_delta = np.argmin([delta_succ, delta_pred])\n",
    "\n",
    "                if best_delta > delta:\n",
    "                    best_delta = delta\n",
    "                    \n",
    "                    if which_delta == 0:\n",
    "                        pos = (pos_i_succ, pos_j)\n",
    "                    elif which_delta == 1:\n",
    "                        pos = (pos_i, pos_j_pred)\n",
    "                        \n",
    "                    if (i_in_cycle1 and j_in_cycle1):\n",
    "                        best_move = (SWAP_EDGES_WITHIN_CYCLE_1, pos)\n",
    "                    elif (i_in_cycle1 is False and j_in_cycle1 is False):\n",
    "                        best_move = (SWAP_EDGES_WITHIN_CYCLE_2, pos)\n",
    "                        \n",
    "        if best_move is None:\n",
    "            break\n",
    "\n",
    "        cycle1, cycle2 = apply_move(best_move, cycle1, cycle2)\n",
    "        if VISUALIZE:\n",
    "            clear_output(wait=True)\n",
    "            plot_cycles(cycle1, cycle2, data)\n",
    "        iter += 1\n",
    "    \n",
    "    return cycle1, cycle2"
   ]
  },
  {
   "cell_type": "markdown",
   "metadata": {},
   "source": [
    "### Extended Local Search"
   ]
  },
  {
   "cell_type": "code",
   "execution_count": null,
   "metadata": {},
   "outputs": [],
   "source": [
    "def MSLS(distance_matrix, data, n_iter=100):\n",
    "    start_time = time.time()\n",
    "    best_cycle_1 = None\n",
    "    best_cycle_2 = None\n",
    "    best_length = np.inf\n",
    "\n",
    "    for _ in tqdm(range(n_iter)):\n",
    "        cycle1, cycle2 = random_cycle(get_nodes(data))\n",
    "        cycle1, cycle2 = candidate_moves_algorithm(cycle1, cycle2, distance_matrix, data)\n",
    "        length = calculate_cycles_length(cycle1, cycle2, distance_matrix)\n",
    "        \n",
    "        if length < best_length:\n",
    "            best_cycle_1 = cycle1\n",
    "            best_cycle_2 = cycle2\n",
    "            best_length = length\n",
    "    stop_time = time.time()\n",
    "    total_time = stop_time - start_time\n",
    "    return best_cycle_1, best_cycle_2, total_time"
   ]
  },
  {
   "cell_type": "code",
   "execution_count": null,
   "metadata": {},
   "outputs": [],
   "source": [
    "def little_perturbation(cycle1, cycle2):\n",
    "    for cycle in [cycle1, cycle2]:\n",
    "        a = np.random.choice(cycle, 2, replace=False)\n",
    "        a_idx_a = np.where(cycle==a[0])\n",
    "        a_idx_b = np.where(cycle==a[1])\n",
    "        \n",
    "        tmp = cycle[a_idx_a]\n",
    "        cycle[a_idx_a] = cycle[a_idx_b]\n",
    "        cycle[a_idx_b] = tmp\n",
    "    \n",
    "    a = np.random.choice(cycle1, 1)\n",
    "    a_idx = np.where(cycle1==a)\n",
    "    \n",
    "    b = np.random.choice(cycle2, 1)\n",
    "    b_idx = np.where(cycle2==b)\n",
    "\n",
    "    tmp = cycle1[a_idx]\n",
    "    cycle1[a_idx] = cycle2[b_idx]\n",
    "    cycle2[b_idx] = tmp\n",
    "\n",
    "    return cycle1, cycle2"
   ]
  },
  {
   "cell_type": "code",
   "execution_count": null,
   "metadata": {},
   "outputs": [],
   "source": [
    "def ILS1(distance_matrix, data, time_MSLS):\n",
    "    best_cycle_1, best_cycle_2 = random_cycle(get_nodes(data))\n",
    "    best_cycle_1, best_cycle_2 = candidate_moves_algorithm(best_cycle_1, best_cycle_2, distance_matrix, data)\n",
    "    best_length = calculate_cycles_length(best_cycle_1, best_cycle_2, distance_matrix)\n",
    "\n",
    "    time_elapsed = 0\n",
    "\n",
    "    while time_elapsed <= time_MSLS:\n",
    "        start_time = time.time()\n",
    "        cycle1, cycle2 = little_perturbation(best_cycle_1, best_cycle_2)\n",
    "        cycle1, cycle2 = candidate_moves_algorithm(cycle1, cycle2, distance_matrix, data)\n",
    "        length = calculate_cycles_length(cycle1, cycle2, distance_matrix)\n",
    "        if length < best_length:\n",
    "            best_length = length\n",
    "            best_cycle_1 = cycle1\n",
    "            best_cycle_2 = cycle2\n",
    "        stop_time = time.time()\n",
    "        time_elapsed += (stop_time - start_time)\n",
    "    \n",
    "    return best_cycle_1, best_cycle_2"
   ]
  },
  {
   "cell_type": "code",
   "execution_count": null,
   "metadata": {},
   "outputs": [],
   "source": [
    "def severe_perturbation(cycle1, cycle2, distance_matrix):\n",
    "    original_size_cycle1 = len(cycle1)\n",
    "    original_size_cycle2 = len(cycle2)\n",
    "    # Destroy\n",
    "    random1 = list(np.random.choice(cycle1, int(len(cycle1)*0.3), replace=False))\n",
    "    cycle1 = list(np.setdiff1d(cycle1, random1, assume_unique=True))\n",
    "\n",
    "    random2 = list(np.random.choice(cycle2, int(len(cycle2)*0.3), replace=False))\n",
    "    cycle2 = list(np.setdiff1d(cycle2, random2, assume_unique=True))\n",
    "\n",
    "    # Repair\n",
    "    cities = random1 + random2\n",
    "\n",
    "    while len(cycle1) < original_size_cycle1:\n",
    "        current_city = cycle1[-1]\n",
    "        nearest_city = min([(city, distance_matrix[current_city][city]) for city in cities], key=lambda x: x[1])[0]\n",
    "        cycle1.append(nearest_city)\n",
    "        cities.remove(nearest_city)\n",
    "\n",
    "    while len(cycle2) < original_size_cycle2:\n",
    "        current_city = cycle2[-1]\n",
    "        nearest_city = min([(city, distance_matrix[current_city][city]) for city in cities], key=lambda x: x[1])[0]\n",
    "        cycle2.append(nearest_city)\n",
    "        cities.remove(nearest_city)\n",
    "    \n",
    "    return np.array(cycle1), np.array(cycle2)"
   ]
  },
  {
   "cell_type": "code",
   "execution_count": null,
   "metadata": {},
   "outputs": [],
   "source": [
    "def ILS2(distance_matrix, data, time_MSLS):\n",
    "    best_cycle_1, best_cycle_2 = random_cycle(get_nodes(data))\n",
    "    best_cycle_1, best_cycle_2 = candidate_moves_algorithm(best_cycle_1, best_cycle_2, distance_matrix, data)\n",
    "    best_length = calculate_cycles_length(best_cycle_1, best_cycle_2, distance_matrix)\n",
    "\n",
    "    time_elapsed = 0\n",
    "\n",
    "    while time_elapsed <= time_MSLS:\n",
    "        start_time = time.time()\n",
    "        cycle1, cycle2 = severe_perturbation(best_cycle_1, best_cycle_2, distance_matrix)\n",
    "        cycle1, cycle2 = candidate_moves_algorithm(cycle1, cycle2, distance_matrix, data)\n",
    "        length = calculate_cycles_length(cycle1, cycle2, distance_matrix)\n",
    "        if length < best_length:\n",
    "            best_length = length\n",
    "            best_cycle_1 = cycle1\n",
    "            best_cycle_2 = cycle2\n",
    "        stop_time = time.time()\n",
    "        time_elapsed += (stop_time - start_time)\n",
    "    \n",
    "    return best_cycle_1, best_cycle_2"
   ]
  },
  {
   "cell_type": "markdown",
   "metadata": {},
   "source": [
    "### Run"
   ]
  },
  {
   "cell_type": "code",
   "execution_count": null,
   "metadata": {},
   "outputs": [],
   "source": [
    "FILENAME = 'kroB200.tsp'\n",
    "VISUALIZE = False\n",
    "num_of_runs = 3"
   ]
  },
  {
   "cell_type": "code",
   "execution_count": null,
   "metadata": {},
   "outputs": [],
   "source": [
    "data = read_data_file(FILENAME)\n",
    "distance_matrix = calculate_distance_matrix(data)"
   ]
  },
  {
   "cell_type": "code",
   "execution_count": null,
   "metadata": {},
   "outputs": [],
   "source": [
    "times = []\n",
    "lengths = []\n",
    "cycles = []\n",
    "\n",
    "for _ in range(num_of_runs):\n",
    "    cycle1_msls, cycle2_msls, time_elapsed = MSLS(distance_matrix, data, 100)\n",
    "    msls_length = calculate_cycles_length(cycle1_msls, cycle2_msls, distance_matrix)\n",
    "\n",
    "    start_time = time.time()\n",
    "    cycle1_ils1, cycle2_ils1 = ILS1(distance_matrix, data, time_elapsed)\n",
    "    stop_time = time.time()\n",
    "    time_ILS1 = stop_time - start_time\n",
    "    ils1_length = calculate_cycles_length(cycle1_ils1, cycle2_ils1, distance_matrix)\n",
    "\n",
    "    start_time = time.time()\n",
    "    cycle1_ils2, cycle2_ils2 = ILS2(distance_matrix, data, time_elapsed)\n",
    "    stop_time = time.time()\n",
    "    time_ILS2 = stop_time - start_time\n",
    "    ils2_length = calculate_cycles_length(cycle1_ils2, cycle2_ils2, distance_matrix)\n",
    "\n",
    "    times.append((time_elapsed, time_ILS1, time_ILS2))\n",
    "    lengths.append((msls_length, ils1_length, ils2_length))\n",
    "    cycles.append(((cycle1_msls, cycle2_msls), (cycle1_ils1, cycle2_ils1), (cycle1_ils2, cycle2_ils2)))"
   ]
  },
  {
   "cell_type": "code",
   "execution_count": null,
   "metadata": {},
   "outputs": [],
   "source": [
    "times = np.array(times)\n",
    "lengths = np.array(lengths)"
   ]
  },
  {
   "cell_type": "code",
   "execution_count": null,
   "metadata": {},
   "outputs": [],
   "source": [
    "lengths"
   ]
  },
  {
   "cell_type": "code",
   "execution_count": null,
   "metadata": {},
   "outputs": [],
   "source": [
    "np.mean(times, axis=0)"
   ]
  },
  {
   "cell_type": "code",
   "execution_count": null,
   "metadata": {},
   "outputs": [],
   "source": [
    "np.mean(lengths, axis=0)"
   ]
  },
  {
   "cell_type": "code",
   "execution_count": null,
   "metadata": {},
   "outputs": [],
   "source": [
    "best = np.argmin(lengths, axis=0)"
   ]
  },
  {
   "cell_type": "code",
   "execution_count": null,
   "metadata": {},
   "outputs": [],
   "source": [
    "best_msls = cycles[best[0]][0]\n",
    "best_isl1 = cycles[best[1]][1]\n",
    "best_isl2 = cycles[best[2]][2]"
   ]
  },
  {
   "cell_type": "code",
   "execution_count": null,
   "metadata": {},
   "outputs": [],
   "source": [
    "plot_cycles(best_msls[0], best_msls[1], data, \"msls_krob200.png\")\n",
    "plot_cycles(best_isl1[0], best_isl1[1], data, \"isl1_krob200.png\")\n",
    "plot_cycles(best_isl2[0], best_isl2[1], data, \"isl2_krob200.png\")"
   ]
  },
  {
   "cell_type": "code",
   "execution_count": null,
   "metadata": {},
   "outputs": [],
   "source": [
    "times"
   ]
  },
  {
   "cell_type": "code",
   "execution_count": null,
   "metadata": {},
   "outputs": [],
   "source": []
  }
 ],
 "metadata": {
  "kernelspec": {
   "display_name": "base",
   "language": "python",
   "name": "python3"
  },
  "language_info": {
   "codemirror_mode": {
    "name": "ipython",
    "version": 3
   },
   "file_extension": ".py",
   "mimetype": "text/x-python",
   "name": "python",
   "nbconvert_exporter": "python",
   "pygments_lexer": "ipython3",
   "version": "3.11.5"
  }
 },
 "nbformat": 4,
 "nbformat_minor": 2
}
