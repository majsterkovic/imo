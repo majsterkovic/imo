{
 "cells": [
  {
   "cell_type": "code",
   "execution_count": 36,
   "metadata": {},
   "outputs": [],
   "source": [
    "import numpy as np\n",
    "import pprint"
   ]
  },
  {
   "cell_type": "code",
   "execution_count": 37,
   "metadata": {},
   "outputs": [],
   "source": [
    "instances = [\"kroA100.tsp\", \"kroB100.tsp\"]\n",
    "methods = [\"greedy_cycle\", \"nearest_neighbour\", \"regret_heuristic\"]"
   ]
  },
  {
   "cell_type": "code",
   "execution_count": 38,
   "metadata": {},
   "outputs": [
    {
     "name": "stdout",
     "output_type": "stream",
     "text": [
      "Instance: kroA100.tsp, Method: greedy_cycle\n",
      "Best ID: 38:, Sum of lengths: 23002\n",
      "Instance: kroA100.tsp, Method: nearest_neighbour\n",
      "Best ID: 98:, Sum of lengths: 25008\n",
      "Instance: kroA100.tsp, Method: regret_heuristic\n",
      "Best ID: 54:, Sum of lengths: 28576\n",
      "Instance: kroB100.tsp, Method: greedy_cycle\n",
      "Best ID: 19:, Sum of lengths: 21264\n",
      "Instance: kroB100.tsp, Method: nearest_neighbour\n",
      "Best ID: 3:, Sum of lengths: 25300\n",
      "Instance: kroB100.tsp, Method: regret_heuristic\n",
      "Best ID: 50:, Sum of lengths: 29964\n"
     ]
    }
   ],
   "source": [
    "records = {}\n",
    "\n",
    "for instance in instances:\n",
    "    for method in methods:\n",
    "        cycle_path = \"cycle\" + \"_\" + method + \"_\" + instance + \".txt\"\n",
    "        routes = []\n",
    "        routes_length = []\n",
    "        with open(cycle_path, 'rt') as file:\n",
    "            lines = file.readlines()\n",
    "\n",
    "        for i in range(0, len(lines), 2):\n",
    "            lineA, lineB = [line.strip().split() for line in (lines[i], lines[i+1])]\n",
    "\n",
    "            id = lineA[0]\n",
    "            lenA, lenB = lineA[1], lineB[1]\n",
    "            cycleA, cycleB = lineA[2:], lineB[2:]\n",
    "\n",
    "            records[id] = {\n",
    "                \"length\": [lenA, lenB],\n",
    "                \"cycle\": [cycleA, cycleB] }\n",
    "\n",
    "\n",
    "\n",
    "        # Create a list of tuples, each containing id and the sum of lenA and lenB\n",
    "        sum_lengths = [(id, int(data[\"length\"][0]) + int(data[\"length\"][1])) for id, data in records.items()]\n",
    "        sums_array = np.array([item[1] for item in sum_lengths])\n",
    "        best_index = np.argmin(sums_array)\n",
    "        best_id = sum_lengths[best_index][0]\n",
    "        best_cycles = records[best_id][\"cycle\"]\n",
    "\n",
    "        print(f\"Instance: {instance}, Method: {method}\")\n",
    "        print(f\"Best ID: {best_id}, Sum of lengths: {sum_lengths[best_index][1]}\")\n",
    "\n",
    "        output_file_name = f\"cycle_{instance}_{method}_best.txt\"\n",
    "        with open(output_file_name, 'wt') as output_file:\n",
    "            output_file.write(f\"Best ID: {best_id}\\n\")\n",
    "            output_file.write(f\"Sum of lengths: {sum_lengths[best_index][1]}\\n\")\n",
    "            output_file.write(\"Cycle A: \" + ' '.join(best_cycles[0]) + \"\\n\")\n",
    "            output_file.write(\"Cycle B: \" + ' '.join(best_cycles[1]) + \"\\n\")"
   ]
  },
  {
   "cell_type": "code",
   "execution_count": 39,
   "metadata": {},
   "outputs": [],
   "source": [
    "import matplotlib.pyplot as plt\n",
    "import numpy as np\n",
    "\n",
    "def visualize_cycles(data, cycles, filename_suffix):\n",
    "    plt.figure(figsize=(18, 16))\n",
    "\n",
    "    for node, (x, y) in data.items():\n",
    "        plt.scatter(x, y, color='red', s=30)\n",
    "        plt.text(x, y, str(node), fontsize=8, ha='left', va='bottom')\n",
    "\n",
    "    colors = ['blue', 'green', 'orange', 'purple', 'cyan']\n",
    "    for i, cycle in enumerate(cycles):\n",
    "        cycle_x = [data[node][0] for node in cycle]\n",
    "        cycle_y = [data[node][1] for node in cycle]\n",
    "        cycle_x.append(cycle_x[0])\n",
    "        cycle_y.append(cycle_y[0])\n",
    "        plt.plot(cycle_x, cycle_y, linestyle='-', color=colors[i % len(colors)], label=f'Cycle {i+1}')\n",
    "\n",
    "    plt.title(f'Visualization of Cycles for {filename_suffix}')\n",
    "    plt.xlabel('X-coordinate')\n",
    "    plt.ylabel('Y-coordinate')\n",
    "    plt.grid(True)\n",
    "    plt.legend()\n",
    "    plt.savefig(f\"{filename_suffix}_visualization.png\")\n",
    "    plt.close() \n",
    "\n",
    "if __name__ == \"__main__\":\n",
    "\n",
    "    for instance in instances:\n",
    "        data = {}\n",
    "        with open(instance, 'r') as file:\n",
    "            for line in file:\n",
    "                if line.startswith('EOF'):\n",
    "                    break\n",
    "                parts = line.split()\n",
    "                if parts[0].isdigit():\n",
    "                    node, x, y = map(int, parts)\n",
    "                    data[node] = (x, y)\n",
    "\n",
    "        for method in methods:\n",
    "            filename = f'cycle_{instance}_{method}_best.txt'\n",
    "            cycles = []\n",
    "            try:\n",
    "                with open(filename, 'r') as file:\n",
    "                    lines = file.readlines()\n",
    "                    cycleA = [int(node) for node in lines[2].strip().split()[2:]] # Skipping \"Cycle A:\" part\n",
    "                    cycleB = [int(node) for node in lines[3].strip().split()[2:]] # Skipping \"Cycle B:\" part\n",
    "                cycles.extend([cycleA, cycleB]) # Add both cycles to the list\n",
    "                \n",
    "                filename_suffix = f'{instance}_{method}_best'\n",
    "                visualize_cycles(data, cycles, filename_suffix)\n",
    "            except FileNotFoundError:\n",
    "                print(f\"File {filename} not found. Skipping...\")"
   ]
  },
  {
   "cell_type": "code",
   "execution_count": 51,
   "metadata": {},
   "outputs": [
    {
     "name": "stdout",
     "output_type": "stream",
     "text": [
      "time_greedy_cycle_kroA100.tsp.txt\n",
      "time_nearest_neighbour_kroA100.tsp.txt\n",
      "time_regret_heuristic_kroA100.tsp.txt\n",
      "time_greedy_cycle_kroB100.tsp.txt\n",
      "time_nearest_neighbour_kroB100.tsp.txt\n",
      "time_regret_heuristic_kroB100.tsp.txt\n"
     ]
    }
   ],
   "source": [
    "time_stats = {}\n",
    "\n",
    "for instance in instances:\n",
    "    for method in methods:\n",
    "        time_method_path = \"time_\" + method + \"_\" + instance + \".txt\"\n",
    "        print(time_method_path)\n",
    "        times = []\n",
    "        with open(time_method_path, 'rt') as file:\n",
    "            for line in file:\n",
    "                times.append(int(line.split(\":\")[1]))\n",
    "\n",
    "        stats = {\n",
    "            \"avg\": round(np.mean(times), 2),\n",
    "            \"min\": round(np.min(times), 2),\n",
    "            \"max\": round(np.max(times), 2)\n",
    "        }\n",
    "\n",
    "        time_stats[time_method_path[:-4]] = stats"
   ]
  },
  {
   "cell_type": "code",
   "execution_count": 53,
   "metadata": {},
   "outputs": [
    {
     "name": "stdout",
     "output_type": "stream",
     "text": [
      "{'time_greedy_cycle_kroA100.tsp': {'avg': 1661.9,\n",
      "                                   'max': 2279,\n",
      "                                   'min': 1505},\n",
      " 'time_greedy_cycle_kroB100.tsp': {'avg': 1668.07,\n",
      "                                   'max': 2477,\n",
      "                                   'min': 1503},\n",
      " 'time_nearest_neighbour_kroA100.tsp': {'avg': 7428.58,\n",
      "                                        'max': 21053,\n",
      "                                        'min': 6909},\n",
      " 'time_nearest_neighbour_kroB100.tsp': {'avg': 7293.5,\n",
      "                                        'max': 12841,\n",
      "                                        'min': 6899},\n",
      " 'time_regret_heuristic_kroA100.tsp': {'avg': 35047.51,\n",
      "                                       'max': 41120,\n",
      "                                       'min': 32536},\n",
      " 'time_regret_heuristic_kroB100.tsp': {'avg': 34894.93,\n",
      "                                       'max': 46418,\n",
      "                                       'min': 32749}}\n"
     ]
    }
   ],
   "source": [
    "pprint.PrettyPrinter(width=20).pprint(time_stats)"
   ]
  }
 ],
 "metadata": {
  "kernelspec": {
   "display_name": "env10",
   "language": "python",
   "name": "python3"
  },
  "language_info": {
   "codemirror_mode": {
    "name": "ipython",
    "version": 3
   },
   "file_extension": ".py",
   "mimetype": "text/x-python",
   "name": "python",
   "nbconvert_exporter": "python",
   "pygments_lexer": "ipython3",
   "version": "3.10.11"
  }
 },
 "nbformat": 4,
 "nbformat_minor": 2
}
