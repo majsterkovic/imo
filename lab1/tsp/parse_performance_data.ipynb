{
 "cells": [
  {
   "cell_type": "code",
   "execution_count": 7,
   "metadata": {},
   "outputs": [],
   "source": [
    "import numpy as np\n",
    "import pprint"
   ]
  },
  {
   "cell_type": "code",
   "execution_count": 8,
   "metadata": {},
   "outputs": [],
   "source": [
    "instances = [\"kroA100.tsp\", \"kroB100.tsp\"]\n",
    "methods = [\"greedy_cycle\", \"nearest_neighbour\", \"regret_heuristic\"]"
   ]
  },
  {
   "cell_type": "code",
   "execution_count": 13,
   "metadata": {},
   "outputs": [
    {
     "name": "stdout",
     "output_type": "stream",
     "text": [
      "Instance: kroA100.tsp, Method: greedy_cycle\n",
      "Średnia suma długości: 28824.79797979798\n",
      "Minimalna suma długości: 25716\n",
      "Maksymalna suma długości: 30605\n",
      "Instance: kroA100.tsp, Method: nearest_neighbour\n",
      "Średnia suma długości: 32583.53\n",
      "Minimalna suma długości: 29394\n",
      "Maksymalna suma długości: 36018\n",
      "Instance: kroA100.tsp, Method: regret_heuristic\n",
      "Średnia suma długości: 32670.93\n",
      "Minimalna suma długości: 31607\n",
      "Maksymalna suma długości: 34234\n",
      "Instance: kroB100.tsp, Method: greedy_cycle\n",
      "Średnia suma długości: 28516.11\n",
      "Minimalna suma długości: 25625\n",
      "Maksymalna suma długości: 33105\n",
      "Instance: kroB100.tsp, Method: nearest_neighbour\n",
      "Średnia suma długości: 32246.61\n",
      "Minimalna suma długości: 27886\n",
      "Maksymalna suma długości: 35334\n",
      "Instance: kroB100.tsp, Method: regret_heuristic\n",
      "Średnia suma długości: 31875.11\n",
      "Minimalna suma długości: 30616\n",
      "Maksymalna suma długości: 33923\n"
     ]
    }
   ],
   "source": [
    "records = {}\n",
    "\n",
    "for instance in instances:\n",
    "    for method in methods:\n",
    "        cycle_path = \"cycle\" + \"_\" + method + \"_\" + instance + \".txt\"\n",
    "        routes = []\n",
    "        routes_length = []\n",
    "        with open(cycle_path, 'rt') as file:\n",
    "            lines = file.readlines()\n",
    "\n",
    "        for i in range(0, len(lines), 2):\n",
    "            lineA, lineB = [line.strip().split() for line in (lines[i], lines[i+1])]\n",
    "\n",
    "            id = lineA[0]\n",
    "            lenA, lenB = lineA[1], lineB[1]\n",
    "            cycleA, cycleB = lineA[2:], lineB[2:]\n",
    "\n",
    "            records[id] = {\n",
    "                \"length\": [lenA, lenB],\n",
    "                \"cycle\": [cycleA, cycleB] }\n",
    "\n",
    "\n",
    "\n",
    "        # Create a list of tuples, each containing id and the sum of lenA and lenB\n",
    "        sum_lengths = [(id, int(data[\"length\"][0]) + int(data[\"length\"][1])) for id, data in records.items()]\n",
    "        sums_array = np.array([item[1] for item in sum_lengths])\n",
    "        best_index = np.argmin(sums_array)\n",
    "        best_id = sum_lengths[best_index][0]\n",
    "        best_cycles = records[best_id][\"cycle\"]\n",
    "\n",
    "        sums_array = np.array([item[1] for item in sum_lengths])\n",
    "        average_sum = np.mean(sums_array)\n",
    "        min_sum = np.min(sums_array)\n",
    "        max_sum = np.max(sums_array)\n",
    "\n",
    "        print(f\"Instance: {instance}, Method: {method}\")\n",
    "        # Wypisywanie średniej, minimalnej i maksymalnej sumy długości\n",
    "        print(f\"Średnia suma długości: {average_sum}\")\n",
    "        print(f\"Minimalna suma długości: {min_sum}\")\n",
    "        print(f\"Maksymalna suma długości: {max_sum}\")\n",
    "\n",
    "\n",
    "        output_file_name = f\"cycle_{instance}_{method}_best.txt\"\n",
    "        with open(output_file_name, 'wt') as output_file:\n",
    "            output_file.write(f\"Best ID: {best_id}\\n\")\n",
    "            output_file.write(f\"Sum of lengths: {sum_lengths[best_index][1]}\\n\")\n",
    "            output_file.write(\"Cycle A: \" + ' '.join(best_cycles[0]) + \"\\n\")\n",
    "            output_file.write(\"Cycle B: \" + ' '.join(best_cycles[1]) + \"\\n\")"
   ]
  },
  {
   "cell_type": "code",
   "execution_count": 10,
   "metadata": {},
   "outputs": [],
   "source": [
    "import matplotlib.pyplot as plt\n",
    "import numpy as np\n",
    "\n",
    "def visualize_cycles(data, cycles, filename_suffix):\n",
    "    plt.figure(figsize=(18, 16))\n",
    "\n",
    "    for node, (x, y) in data.items():\n",
    "        plt.scatter(x, y, color='red', s=30)\n",
    "        plt.text(x, y, str(node), fontsize=8, ha='left', va='bottom')\n",
    "\n",
    "    colors = ['blue', 'green', 'orange', 'purple', 'cyan']\n",
    "    for i, cycle in enumerate(cycles):\n",
    "        cycle_x = [data[node][0] for node in cycle]\n",
    "        cycle_y = [data[node][1] for node in cycle]\n",
    "        cycle_x.append(cycle_x[0])\n",
    "        cycle_y.append(cycle_y[0])\n",
    "        plt.plot(cycle_x, cycle_y, linestyle='-', color=colors[i % len(colors)], label=f'Cycle {i+1}')\n",
    "\n",
    "    plt.title(f'Visualization of Cycles for {filename_suffix}')\n",
    "    plt.xlabel('X-coordinate')\n",
    "    plt.ylabel('Y-coordinate')\n",
    "    plt.grid(True)\n",
    "    plt.legend()\n",
    "    plt.savefig(f\"{filename_suffix}_visualization.png\")\n",
    "    plt.close() \n",
    "\n",
    "if __name__ == \"__main__\":\n",
    "\n",
    "    for instance in instances:\n",
    "        data = {}\n",
    "        with open(instance, 'r') as file:\n",
    "            for line in file:\n",
    "                if line.startswith('EOF'):\n",
    "                    break\n",
    "                parts = line.split()\n",
    "                if parts[0].isdigit():\n",
    "                    node, x, y = map(int, parts)\n",
    "                    data[node] = (x, y)\n",
    "\n",
    "        for method in methods:\n",
    "            filename = f'cycle_{instance}_{method}_best.txt'\n",
    "            cycles = []\n",
    "            try:\n",
    "                with open(filename, 'r') as file:\n",
    "                    lines = file.readlines()\n",
    "                    cycleA = [int(node) for node in lines[2].strip().split()[2:]] # Skipping \"Cycle A:\" part\n",
    "                    cycleB = [int(node) for node in lines[3].strip().split()[2:]] # Skipping \"Cycle B:\" part\n",
    "                cycles.extend([cycleA, cycleB]) # Add both cycles to the list\n",
    "                \n",
    "                filename_suffix = f'{instance}_{method}_best'\n",
    "                visualize_cycles(data, cycles, filename_suffix)\n",
    "            except FileNotFoundError:\n",
    "                print(f\"File {filename} not found. Skipping...\")"
   ]
  },
  {
   "cell_type": "code",
   "execution_count": 11,
   "metadata": {},
   "outputs": [
    {
     "name": "stdout",
     "output_type": "stream",
     "text": [
      "time_greedy_cycle_kroA100.tsp.txt\n",
      "time_nearest_neighbour_kroA100.tsp.txt\n",
      "time_regret_heuristic_kroA100.tsp.txt\n",
      "time_greedy_cycle_kroB100.tsp.txt\n",
      "time_nearest_neighbour_kroB100.tsp.txt\n",
      "time_regret_heuristic_kroB100.tsp.txt\n"
     ]
    }
   ],
   "source": [
    "time_stats = {}\n",
    "\n",
    "for instance in instances:\n",
    "    for method in methods:\n",
    "        time_method_path = \"time_\" + method + \"_\" + instance + \".txt\"\n",
    "        print(time_method_path)\n",
    "        times = []\n",
    "        with open(time_method_path, 'rt') as file:\n",
    "            for line in file:\n",
    "                times.append(int(line.split(\":\")[1]))\n",
    "\n",
    "        stats = {\n",
    "            \"avg\": round(np.mean(times), 2),\n",
    "            \"min\": round(np.min(times), 2),\n",
    "            \"max\": round(np.max(times), 2)\n",
    "        }\n",
    "\n",
    "        time_stats[time_method_path[:-4]] = stats"
   ]
  },
  {
   "cell_type": "code",
   "execution_count": 12,
   "metadata": {},
   "outputs": [
    {
     "name": "stdout",
     "output_type": "stream",
     "text": [
      "{'time_greedy_cycle_kroA100.tsp': {'avg': 1688.82,\n",
      "                                   'max': 2453,\n",
      "                                   'min': 1526},\n",
      " 'time_greedy_cycle_kroB100.tsp': {'avg': 1730.32,\n",
      "                                   'max': 3725,\n",
      "                                   'min': 1609},\n",
      " 'time_nearest_neighbour_kroA100.tsp': {'avg': 7362.8,\n",
      "                                        'max': 11392,\n",
      "                                        'min': 6861},\n",
      " 'time_nearest_neighbour_kroB100.tsp': {'avg': 7282.62,\n",
      "                                        'max': 12135,\n",
      "                                        'min': 6874},\n",
      " 'time_regret_heuristic_kroA100.tsp': {'avg': 34867.97,\n",
      "                                       'max': 40296,\n",
      "                                       'min': 33135},\n",
      " 'time_regret_heuristic_kroB100.tsp': {'avg': 34982.16,\n",
      "                                       'max': 47180,\n",
      "                                       'min': 32262}}\n"
     ]
    }
   ],
   "source": [
    "pprint.PrettyPrinter(width=20).pprint(time_stats)"
   ]
  }
 ],
 "metadata": {
  "kernelspec": {
   "display_name": "env10",
   "language": "python",
   "name": "python3"
  },
  "language_info": {
   "codemirror_mode": {
    "name": "ipython",
    "version": 3
   },
   "file_extension": ".py",
   "mimetype": "text/x-python",
   "name": "python",
   "nbconvert_exporter": "python",
   "pygments_lexer": "ipython3",
   "version": "3.10.11"
  }
 },
 "nbformat": 4,
 "nbformat_minor": 2
}
