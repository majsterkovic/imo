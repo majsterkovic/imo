{
 "cells": [
  {
   "cell_type": "code",
   "execution_count": 17,
   "metadata": {},
   "outputs": [],
   "source": [
    "import numpy as np\n",
    "import pprint"
   ]
  },
  {
   "cell_type": "code",
   "execution_count": 18,
   "metadata": {},
   "outputs": [],
   "source": [
    "cycles = [\"cycle1\", \"cycle2\"]\n",
    "methods = [\"greedy_cycle\", \"nearest_neighbour\", \"regret_heuristic\"]"
   ]
  },
  {
   "cell_type": "code",
   "execution_count": 19,
   "metadata": {},
   "outputs": [],
   "source": [
    "best_routes = {}\n",
    "\n",
    "for cycle in cycles:\n",
    "    for method in methods:\n",
    "        cycle_path = cycle + \"_\" + method + \".txt\"\n",
    "        routes = []\n",
    "        routes_length = []\n",
    "        with open(cycle_path, 'rt') as file:\n",
    "            for line in file:\n",
    "                line = line.split(\" \")\n",
    "                routes_length.append(line[0])\n",
    "                routes.append('_'.join(line[1:]))\n",
    "        best_idx = np.argmin(np.array(routes_length))\n",
    "        best_routes[cycle_path[:-4]] = np.array([node for node in routes[best_idx].split(\"_\") if node != '\\n'])"
   ]
  },
  {
   "cell_type": "code",
   "execution_count": 20,
   "metadata": {},
   "outputs": [
    {
     "data": {
      "text/plain": [
       "dict_keys(['cycle1_greedy_cycle', 'cycle1_nearest_neighbour', 'cycle1_regret_heuristic', 'cycle2_greedy_cycle', 'cycle2_nearest_neighbour', 'cycle2_regret_heuristic'])"
      ]
     },
     "execution_count": 20,
     "metadata": {},
     "output_type": "execute_result"
    }
   ],
   "source": [
    "best_routes.keys()"
   ]
  },
  {
   "cell_type": "code",
   "execution_count": 21,
   "metadata": {},
   "outputs": [
    {
     "data": {
      "text/plain": [
       "{'cycle1_greedy_cycle': array(['67', '65', '177', '13', '27', '191', '132', '111', '117', '115',\n",
       "        '53', '1', '85', '145', '198', '123', '15', '79', '160', '162',\n",
       "        '64', '20', '55', '42', '135', '186', '127', '112', '120', '107',\n",
       "        '155', '183', '8', '22', '134', '75', '109', '6', '54', '83', '62',\n",
       "        '185', '168', '50', '72', '130', '39', '129', '146', '143', '25',\n",
       "        '90', '103', '114', '98', '58', '141', '171', '200', '88', '148',\n",
       "        '28', '38', '71', '56', '152', '178', '196', '5', '105', '43',\n",
       "        '137', '139', '86', '95', '94', '91', '150', '76', '70', '102',\n",
       "        '144', '173', '23', '2', '35', '169', '68', '30', '181', '125',\n",
       "        '161', '77', '158', '80', '151', '187', '157', '47', '31'],\n",
       "       dtype='<U3'),\n",
       " 'cycle1_nearest_neighbour': array(['30', '68', '169', '23', '164', '140', '21', '154', '173', '168',\n",
       "        '185', '62', '83', '72', '130', '71', '196', '5', '105', '137',\n",
       "        '43', '178', '152', '56', '38', '28', '148', '88', '98', '58',\n",
       "        '171', '200', '141', '114', '39', '50', '150', '144', '70', '102',\n",
       "        '76', '91', '94', '95', '35', '2', '181', '125', '161', '151',\n",
       "        '187', '6', '54', '109', '107', '75', '183', '22', '8', '17',\n",
       "        '134', '155', '157', '47', '120', '112', '127', '186', '42', '55',\n",
       "        '64', '162', '160', '79', '13', '15', '123', '198', '191', '85',\n",
       "        '132', '40', '147', '12', '1', '53', '111', '115', '117', '145',\n",
       "        '27', '177', '65', '20', '135', '31', '67', '80', '77', '158'],\n",
       "       dtype='<U3'),\n",
       " 'cycle1_regret_heuristic': array(['28', '148', '200', '171', '58', '34', '143', '17', '8', '134',\n",
       "        '75', '54', '107', '157', '47', '120', '112', '127', '135', '64',\n",
       "        '162', '67', '177', '13', '15', '27', '145', '85', '132', '1',\n",
       "        '117', '159', '24', '32', '136', '26', '199', '7', '82', '9',\n",
       "        '124', '37', '118', '16', '51', '194', '122', '170', '84', '166',\n",
       "        '165', '104', '97', '81', '156', '74', '36', '175', '92', '19',\n",
       "        '190', '149', '93', '163', '4', '60', '192', '108', '69', '189',\n",
       "        '3', '59', '41', '89', '154', '102', '70', '150', '23', '169',\n",
       "        '35', '125', '168', '185', '50', '139', '86', '95', '94', '182',\n",
       "        '195', '176', '133', '105', '5', '152', '71', '130', '39', '28'],\n",
       "       dtype='<U3'),\n",
       " 'cycle2_greedy_cycle': array(['8', '155', '183', '112', '127', '135', '42', '20', '64', '160',\n",
       "        '79', '15', '123', '198', '145', '85', '1', '53', '115', '117',\n",
       "        '111', '132', '40', '12', '147', '191', '27', '13', '177', '162',\n",
       "        '55', '186', '120', '47', '67', '31', '107', '157', '109', '6',\n",
       "        '187', '151', '80', '158', '77', '161', '125', '181', '30', '68',\n",
       "        '169', '35', '2', '23', '173', '144', '102', '70', '76', '150',\n",
       "        '91', '94', '95', '86', '139', '137', '43', '105', '5', '196',\n",
       "        '178', '152', '56', '71', '38', '28', '148', '88', '200', '171',\n",
       "        '141', '58', '98', '114', '34', '90', '143', '103', '39', '130',\n",
       "        '72', '50', '168', '185', '62', '83', '54', '75', '134', '22'],\n",
       "       dtype='<U3'),\n",
       " 'cycle2_nearest_neighbour': array(['91', '94', '95', '150', '173', '168', '185', '62', '83', '72',\n",
       "        '130', '71', '196', '5', '105', '137', '43', '178', '152', '56',\n",
       "        '38', '28', '148', '88', '98', '58', '171', '200', '141', '114',\n",
       "        '39', '50', '23', '164', '140', '21', '154', '169', '35', '2',\n",
       "        '181', '125', '161', '151', '187', '6', '54', '109', '107', '75',\n",
       "        '183', '22', '8', '17', '134', '155', '157', '47', '120', '112',\n",
       "        '127', '186', '42', '55', '64', '162', '160', '79', '13', '15',\n",
       "        '123', '198', '191', '85', '132', '40', '147', '12', '1', '53',\n",
       "        '111', '115', '117', '145', '27', '177', '65', '20', '135', '31',\n",
       "        '67', '80', '77', '158', '68', '30', '144', '70', '102', '76'],\n",
       "       dtype='<U3'),\n",
       " 'cycle2_regret_heuristic': array(['33', '197', '10', '99', '190', '66', '153', '11', '116', '188',\n",
       "        '44', '179', '184', '61', '46', '12', '147', '40', '132', '111',\n",
       "        '117', '115', '53', '1', '85', '145', '191', '27', '198', '123',\n",
       "        '15', '13', '177', '79', '160', '20', '64', '162', '67', '31',\n",
       "        '47', '120', '55', '42', '135', '186', '127', '112', '107', '109',\n",
       "        '157', '187', '6', '54', '75', '183', '155', '8', '22', '134',\n",
       "        '129', '146', '103', '17', '25', '143', '90', '34', '58', '141',\n",
       "        '171', '98', '114', '88', '148', '28', '38', '56', '178', '105',\n",
       "        '83', '62', '185', '168', '173', '169', '2', '125', '161', '151',\n",
       "        '65', '80', '77', '158', '193', '4', '93', '3', '57', '36', '100',\n",
       "        '33'], dtype='<U3')}"
      ]
     },
     "execution_count": 21,
     "metadata": {},
     "output_type": "execute_result"
    }
   ],
   "source": [
    "best_routes"
   ]
  },
  {
   "cell_type": "code",
   "execution_count": 22,
   "metadata": {},
   "outputs": [],
   "source": [
    "time_stats = {}\n",
    "\n",
    "for method in methods:\n",
    "    time_method_path = \"time_\" + method + \".txt\"\n",
    "    times = []\n",
    "    with open(time_method_path, 'rt') as file:\n",
    "        for line in file:\n",
    "            times.append(int(line))\n",
    "\n",
    "    stats = {\n",
    "        \"avg\": round(np.mean(times), 2),\n",
    "        \"min\": round(np.min(times), 2),\n",
    "        \"max\": round(np.max(times), 2)\n",
    "    }\n",
    "\n",
    "    time_stats[time_method_path[:-4]] = stats"
   ]
  },
  {
   "cell_type": "code",
   "execution_count": 23,
   "metadata": {},
   "outputs": [
    {
     "name": "stdout",
     "output_type": "stream",
     "text": [
      "{'time_greedy_cycle': {'avg': 16345.96,\n",
      "                       'max': 20363,\n",
      "                       'min': 15818},\n",
      " 'time_nearest_neighbour': {'avg': 48051.88,\n",
      "                            'max': 57790,\n",
      "                            'min': 47019},\n",
      " 'time_regret_heuristic': {'avg': 268130.06,\n",
      "                           'max': 511873,\n",
      "                           'min': 257867}}\n"
     ]
    }
   ],
   "source": [
    "pprint.PrettyPrinter(width=20).pprint(time_stats)"
   ]
  },
  {
   "cell_type": "code",
   "execution_count": 24,
   "metadata": {},
   "outputs": [],
   "source": [
    "export_method = methods[2]\n",
    "\n",
    "with open(\"cycle1.txt\", 'wt') as file:\n",
    "    path = \"cycle1_\" + method\n",
    "    for node in best_routes[path]:\n",
    "        file.write(node)\n",
    "        file.write(\" \")\n",
    "\n",
    "with open(\"cycle2.txt\", 'wt') as file:\n",
    "    path = \"cycle2_\" + method\n",
    "    for node in best_routes[path]:\n",
    "        file.write(node)\n",
    "        file.write(\" \")"
   ]
  },
  {
   "cell_type": "code",
   "execution_count": null,
   "metadata": {},
   "outputs": [],
   "source": []
  }
 ],
 "metadata": {
  "kernelspec": {
   "display_name": "env10",
   "language": "python",
   "name": "python3"
  },
  "language_info": {
   "codemirror_mode": {
    "name": "ipython",
    "version": 3
   },
   "file_extension": ".py",
   "mimetype": "text/x-python",
   "name": "python",
   "nbconvert_exporter": "python",
   "pygments_lexer": "ipython3",
   "version": "3.10.13"
  }
 },
 "nbformat": 4,
 "nbformat_minor": 2
}
